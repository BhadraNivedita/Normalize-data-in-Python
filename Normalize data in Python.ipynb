{
 "cells": [
  {
   "cell_type": "code",
   "execution_count": 1,
   "id": "40542fa4",
   "metadata": {},
   "outputs": [],
   "source": [
    "from sklearn import preprocessing\n",
    "import numpy as np\n"
   ]
  },
  {
   "cell_type": "code",
   "execution_count": 2,
   "id": "d57d4f1e",
   "metadata": {},
   "outputs": [
    {
     "name": "stdout",
     "output_type": "stream",
     "text": [
      "Original Array =  [78 67 88 54 12 81 42 88 66 37 80 48 99 11 27]\n",
      "Normalized Array =  [[0.31193512 0.26794427 0.35192681 0.21595509 0.04799002 0.32393263\n",
      "  0.16796507 0.35192681 0.26394511 0.14796923 0.31993346 0.19196008\n",
      "  0.39591766 0.04399085 0.10797754]]\n"
     ]
    }
   ],
   "source": [
    "\n",
    "arr = np.random.randint(100,size=(15))\n",
    "print('Original Array = ', arr)\n",
    "\n",
    "arr_norm = preprocessing.normalize([arr])\n",
    "print('Normalized Array = ', arr_norm )\n",
    "\n"
   ]
  }
 ],
 "metadata": {
  "kernelspec": {
   "display_name": "Python 3 (ipykernel)",
   "language": "python",
   "name": "python3"
  },
  "language_info": {
   "codemirror_mode": {
    "name": "ipython",
    "version": 3
   },
   "file_extension": ".py",
   "mimetype": "text/x-python",
   "name": "python",
   "nbconvert_exporter": "python",
   "pygments_lexer": "ipython3",
   "version": "3.9.12"
  }
 },
 "nbformat": 4,
 "nbformat_minor": 5
}
